{
 "cells": [
  {
   "cell_type": "markdown",
   "id": "8a77807f92f26ee",
   "metadata": {},
   "source": [
    "# This is a sample Jupyter Notebook\n",
    "\n",
    "Below is an example of a code cell. \n",
    "Put your cursor into the cell and press Shift+Enter to execute it and select the next one, or click 'Run Cell' button.\n",
    "\n",
    "Press Double Shift to search everywhere for classes, files, tool windows, actions, and settings.\n",
    "\n",
    "To learn more about Jupyter Notebooks in PyCharm, see [help](https://www.jetbrains.com/help/pycharm/ipython-notebook-support.html).\n",
    "For an overview of PyCharm, go to Help -> Learn IDE features or refer to [our documentation](https://www.jetbrains.com/help/pycharm/getting-started.html)."
   ]
  },
  {
   "cell_type": "code",
   "id": "fbc121e30a2defb3",
   "metadata": {
    "jupyter": {
     "is_executing": true
    }
   },
   "source": [
    "import numpy as np\n",
    "import matplotlib.pyplot as plt\n",
    "from typing import List, Tuple, Union"
   ],
   "outputs": [],
   "execution_count": null
  },
  {
   "cell_type": "code",
   "execution_count": null,
   "id": "65655e24c98cff1b",
   "metadata": {},
   "outputs": [],
   "source": [
    "# --- Funções para criar Matrizes de Transformação Homogênea (3x3) ---\n",
    "\n",
    "def matriz_translacao(vetor: Union[List, np.ndarray]) -> np.ndarray:\n",
    "    \"\"\"Cria uma matriz de translação 3x3.\"\"\"\n",
    "    dx, dy = vetor\n",
    "    return np.array([\n",
    "        [1, 0, dx],\n",
    "        [0, 1, dy],\n",
    "        [0, 0, 1]\n",
    "    ])\n",
    "\n",
    "def matriz_escala(fatores: Union[float, List, np.ndarray], origem: Tuple[float, float] = (0, 0)) -> np.ndarray:\n",
    "    \"\"\"Cria uma matriz de escala 3x3 em relação a uma origem.\"\"\"\n",
    "    sx, sy = fatores if isinstance(fatores, (list, np.ndarray)) else (fatores, fatores)\n",
    "    ox, oy = origem\n",
    "    return matriz_translacao([ox, oy]) @ np.array([[sx, 0, 0], [0, sy, 0], [0, 0, 1]]) @ matriz_translacao([-ox, -oy])\n",
    "\n",
    "def matriz_rotacao(angulo_graus: float, origem: Tuple[float, float] = (0, 0)) -> np.ndarray:\n",
    "    \"\"\"Cria uma matriz de rotação 3x3 em relação a uma origem.\"\"\"\n",
    "    angulo_rad = np.radians(angulo_graus)\n",
    "    c, s = np.cos(angulo_rad), np.sin(angulo_rad)\n",
    "    ox, oy = origem\n",
    "    return matriz_translacao([ox, oy]) @ np.array([[c, -s, 0], [s, c, 0], [0, 0, 1]]) @ matriz_translacao([-ox, -oy])\n",
    "\n",
    "def matriz_reflexao(eixo: str = 'y') -> np.ndarray:\n",
    "    \"\"\"Cria uma matriz de reflexão 3x3.\"\"\"\n",
    "    if eixo == 'y': return np.array([[-1, 0, 0], [0, 1, 0], [0, 0, 1]])\n",
    "    if eixo == 'x': return np.array([[1, 0, 0], [0, -1, 0], [0, 0, 1]])\n",
    "    raise ValueError(\"O eixo deve ser 'x' ou 'y'\")\n",
    "\n",
    "def matriz_cisalhamento(k: float, direcao: str = 'horizontal') -> np.ndarray:\n",
    "    \"\"\"Cria uma matriz de cisalhamento 3x3.\"\"\"\n",
    "    if direcao == 'horizontal': return np.array([[1, k, 0], [0, 1, 0], [0, 0, 1]])\n",
    "    if direcao == 'vertical': return np.array([[1, 0, 0], [k, 1, 0], [0, 0, 1]])\n",
    "    raise ValueError(\"A direção deve ser 'horizontal' ou 'vertical'\")"
   ]
  },
  {
   "cell_type": "code",
   "execution_count": null,
   "id": "ec418914a9074d69",
   "metadata": {},
   "outputs": [],
   "source": [
    "# --- Classe Principal Refatorada ---\n",
    "\n",
    "class FormaGeometrica:\n",
    "    def __init__(self, pontos: np.ndarray, nome: str = \"Forma\"):\n",
    "        \"\"\"Inicializa a forma e converte os pontos para coordenadas homogêneas.\"\"\"\n",
    "        pontos_2d = np.atleast_2d(pontos)\n",
    "        self.pontos_homogeneos = np.hstack([pontos_2d, np.ones((pontos_2d.shape[0], 1))])\n",
    "        self.nome = nome\n",
    "\n",
    "    @property\n",
    "    def pontos(self) -> np.ndarray:\n",
    "        \"\"\"Retorna os pontos em coordenadas 2D para uso externo.\"\"\"\n",
    "        return self.pontos_homogeneos[:, :2]\n",
    "\n",
    "    def __repr__(self) -> str:\n",
    "        return f\"{self.nome}(pontos=\\n{self.pontos})\"\n",
    "\n",
    "    def aplicar_matriz(self, matriz: np.ndarray, novo_nome: str) -> 'FormaGeometrica':\n",
    "        \"\"\"Aplica uma matriz de transformação aos pontos da forma.\"\"\"\n",
    "        novos_pontos_homogeneos = (matriz @ self.pontos_homogeneos.T).T\n",
    "        return FormaGeometrica(novos_pontos_homogeneos[:, :2], novo_nome)\n",
    "\n",
    "    def transladar(self, vetor: Union[List, np.ndarray]) -> 'FormaGeometrica':\n",
    "        return self.aplicar_matriz(matriz_translacao(vetor), f\"{self.nome} transladado\")\n",
    "\n",
    "    def escalar(self, fatores: Union[float, List, np.ndarray], origem: Tuple[float, float] = (0, 0)) -> 'FormaGeometrica':\n",
    "        return self.aplicar_matriz(matriz_escala(fatores, origem), f\"{self.nome} escalado\")\n",
    "\n",
    "    def rotacionar(self, angulo_graus: float, origem: Tuple[float, float] = (0, 0)) -> 'FormaGeometrica':\n",
    "        return self.aplicar_matriz(matriz_rotacao(angulo_graus, origem), f\"{self.nome} rotacionado\")\n",
    "\n",
    "    def refletir(self, eixo: str = 'y') -> 'FormaGeometrica':\n",
    "        return self.aplicar_matriz(matriz_reflexao(eixo), f\"{self.nome} refletido\")\n",
    "\n",
    "    def cisalhar(self, k: float, direcao: str = 'horizontal') -> 'FormaGeometrica':\n",
    "        return self.aplicar_matriz(matriz_cisalhamento(k, direcao), f\"{self.nome} cisalhado\")\n"
   ]
  },
  {
   "cell_type": "code",
   "execution_count": null,
   "id": "3b8e4f36edbf5147",
   "metadata": {},
   "outputs": [],
   "source": [
    "# --- Funções de Plotagem ---\n",
    "\n",
    "def configurar_plot(ax, titulo: str):\n",
    "    \"\"\"Aplica configurações comuns a um eixo de plotagem.\"\"\"\n",
    "    ax.axhline(0, color='black', linewidth=0.5)\n",
    "    ax.axvline(0, color='black', linewidth=0.5)\n",
    "    ax.grid(True, linestyle='--', alpha=0.6)\n",
    "    ax.set_aspect('equal', adjustable='box')\n",
    "    ax.set_title(titulo, fontsize=14)\n",
    "    ax.set_xlabel(\"Eixo X\")\n",
    "    ax.set_ylabel(\"Eixo Y\")\n",
    "\n",
    "def plotar_transformacao(original: FormaGeometrica, transformada: FormaGeometrica, titulo: str):\n",
    "    \"\"\"Plota uma transformação simples (original vs. final).\"\"\"\n",
    "    fig, ax = plt.subplots(figsize=(8, 8))\n",
    "\n",
    "    # Plotar original\n",
    "    if original.pontos.shape[0] > 1:\n",
    "        pontos_plot = np.vstack([original.pontos, original.pontos[0]])\n",
    "        ax.plot(pontos_plot[:, 0], pontos_plot[:, 1], 'o-', label=\"Original\", color='blue')\n",
    "    else:\n",
    "        ax.scatter(original.pontos[:, 0], original.pontos[:, 1], s=100, label=\"Original\", color='blue', zorder=5)\n",
    "\n",
    "    # Plotar transformada\n",
    "    if transformada.pontos.shape[0] > 1:\n",
    "        pontos_plot = np.vstack([transformada.pontos, transformada.pontos[0]])\n",
    "        ax.plot(pontos_plot[:, 0], pontos_plot[:, 1], 'o--', label=\"Transformada\", color='red')\n",
    "    else:\n",
    "        ax.scatter(transformada.pontos[:, 0], transformada.pontos[:, 1], s=100, label=\"Transformada\", color='red', zorder=5)\n",
    "\n",
    "    configurar_plot(ax, titulo)\n",
    "    ax.legend()\n",
    "    plt.show() # Garante que o gráfico seja exibido\n",
    "\n",
    "def plotar_transformacao_composta(titulo: str, passos: List[FormaGeometrica]):\n",
    "    \"\"\"Plota uma sequência de transformações, mostrando cada passo.\"\"\"\n",
    "    fig, ax = plt.subplots(figsize=(8, 8))\n",
    "    cores = plt.cm.viridis(np.linspace(0, 1, len(passos)))\n",
    "    estilos = ['o-', 'o--', 'o-.', 'o:']\n",
    "\n",
    "    for i, forma in enumerate(passos):\n",
    "        label = f\"Passo {i}: {forma.nome}\" if i > 0 else \"Original\"\n",
    "        cor = cores[i]\n",
    "        estilo = estilos[i % len(estilos)]\n",
    "\n",
    "        if forma.pontos.shape[0] > 1:\n",
    "            pontos_plot = np.vstack([forma.pontos, forma.pontos[0]])\n",
    "            ax.plot(pontos_plot[:, 0], pontos_plot[:, 1], estilo, label=label, color=cor, zorder=i+5)\n",
    "        else:\n",
    "            ax.scatter(forma.pontos[:, 0], forma.pontos[:, 1], s=100+i*20, label=label, color=cor, zorder=i+5)\n",
    "\n",
    "    configurar_plot(ax, titulo)\n",
    "    ax.legend(loc='upper left', bbox_to_anchor=(1, 1))\n",
    "    fig.tight_layout()\n",
    "    plt.show() # Garante que o gráfico seja exibido"
   ]
  },
  {
   "cell_type": "code",
   "execution_count": null,
   "id": "6281d47cd71b2a6",
   "metadata": {},
   "outputs": [],
   "source": [
    "# --- Exercício 1: Translação Simples ---\n",
    "p1 = FormaGeometrica(np.array([2, 3]), \"P\")\n",
    "p1_transf = p1.transladar([4, -2])\n",
    "print(f\"--- Exercício 1 ---\\nOriginal: {p1.pontos}\\nFinal: {p1_transf.pontos}\\n\")\n",
    "plotar_transformacao(p1, p1_transf, \"Exercício 1: Translação Simples\")"
   ]
  },
  {
   "cell_type": "code",
   "execution_count": null,
   "id": "87d030ef7f133fdb",
   "metadata": {},
   "outputs": [],
   "source": [
    "# --- Exercício 2: Escala Uniforme ---\n",
    "tri2 = FormaGeometrica(np.array([[1, 1], [3, 1], [2, 4]]), \"Triângulo\")\n",
    "tri2_transf = tri2.escalar(2)\n",
    "print(f\"--- Exercício 2 ---\\nOriginal: \\n{tri2.pontos}\\nFinal: \\n{tri2_transf.pontos}\\n\")\n",
    "plotar_transformacao(tri2, tri2_transf, \"Exercício 2: Escala Uniforme\")\n"
   ]
  },
  {
   "metadata": {},
   "cell_type": "code",
   "outputs": [],
   "execution_count": null,
   "source": [
    "# --- Exercício 3: Escala Não Uniforme ---\n",
    "tri3 = FormaGeometrica(np.array([[1, 1], [3, 1], [2, 4]]), \"Triângulo\")\n",
    "tri3_transf = tri3.escalar([2, 0.5])\n",
    "print(f\"--- Exercício 3 ---\\nOriginal: \\n{tri3.pontos}\\nFinal: \\n{tri3_transf.pontos}\\n\")\n",
    "plotar_transformacao(tri3, tri3_transf, \"Exercício 3: Escala Não Uniforme\")"
   ],
   "id": "1ccdf4730c7d5f77"
  },
  {
   "metadata": {},
   "cell_type": "code",
   "outputs": [],
   "execution_count": null,
   "source": [
    "# --- Exercício 4: Rotação em Torno da Origem ---\n",
    "p4 = FormaGeometrica(np.array([1, 0]), \"P\")\n",
    "p4_transf = p4.rotacionar(90) # Sentido anti-horário\n",
    "print(f\"--- Exercício 4 ---\\nOriginal: {p4.pontos}\\nFinal: {np.round(p4_transf.pontos, 5)}\\n\")\n",
    "plotar_transformacao(p4, p4_transf, \"Exercício 4: Rotação 90° Anti-horário\")"
   ],
   "id": "21732f05f4a367b3"
  },
  {
   "metadata": {},
   "cell_type": "code",
   "outputs": [],
   "execution_count": null,
   "source": [
    "# --- Exercício 5: Rotação de um Polígono ---\n",
    "quad5 = FormaGeometrica(np.array([[1, 1], [1, 4], [4, 4], [4, 1]]), \"Quadrado\")\n",
    "quad5_transf = quad5.rotacionar(-45) # Sentido horário\n",
    "print(f\"--- Exercício 5 ---\\nOriginal: \\n{quad5.pontos}\\nFinal: \\n{np.round(quad5_transf.pontos, 5)}\\n\")\n",
    "plotar_transformacao(quad5, quad5_transf, \"Exercício 5: Rotação 45° Horário\")"
   ],
   "id": "3e11ac2269d6323c"
  },
  {
   "metadata": {},
   "cell_type": "code",
   "outputs": [],
   "execution_count": null,
   "source": [
    "# --- Exercício 6: Reflexão Simples ---\n",
    "p6 = FormaGeometrica(np.array([2, 5]), \"P\")\n",
    "p6_transf = p6.refletir(eixo='y')\n",
    "print(f\"--- Exercício 6 ---\\nOriginal: {p6.pontos}\\nFinal: {p6_transf.pontos}\\n\")\n",
    "plotar_transformacao(p6, p6_transf, \"Exercício 6: Reflexão no Eixo Y\")"
   ],
   "id": "449e17b0f4b31156"
  },
  {
   "metadata": {},
   "cell_type": "code",
   "outputs": [],
   "execution_count": null,
   "source": [
    "# --- Exercício 7: Reflexão de um Triângulo ---\n",
    "tri7 = FormaGeometrica(np.array([[2, 3], [4, 3], [3, 5]]), \"Triângulo\")\n",
    "tri7_transf = tri7.refletir(eixo='x')\n",
    "print(f\"--- Exercício 7 ---\\nOriginal: \\n{tri7.pontos}\\nFinal: \\n{tri7_transf.pontos}\\n\")\n",
    "plotar_transformacao(tri7, tri7_transf, \"Exercício 7: Reflexão no Eixo X\")"
   ],
   "id": "bcb86f3d3007a473"
  },
  {
   "metadata": {},
   "cell_type": "code",
   "outputs": [],
   "execution_count": null,
   "source": [
    "# --- Exercício 8: Cisalhamento Horizontal ---\n",
    "p8 = FormaGeometrica(np.array([2, 3]), \"P\")\n",
    "p8_transf = p8.cisalhar(k=2)\n",
    "print(f\"--- Exercício 8 ---\\nOriginal: {p8.pontos}\\nFinal: {p8_transf.pontos}\\n\")\n",
    "plotar_transformacao(p8, p8_transf, \"Exercício 8: Cisalhamento Horizontal (k=2)\")\n"
   ],
   "id": "26dd6cf55a3b2d0d"
  },
  {
   "metadata": {},
   "cell_type": "code",
   "outputs": [],
   "execution_count": null,
   "source": [
    "# --- Exercício 9: Composição de Transformações ---\n",
    "p9 = FormaGeometrica(np.array([3, 2]), \"P\")\n",
    "p9_t1 = p9.transladar([1, -1])\n",
    "p9_t2 = p9_t1.rotacionar(90)\n",
    "p9_t3 = p9_t2.escalar(2)\n",
    "print(f\"--- Exercício 9 ---\\nOriginal: {p9.pontos}\\nPasso 1: {p9_t1.pontos}\"\n",
    "      f\"\\nPasso 2: {np.round(p9_t2.pontos, 5)}\\nFinal: {np.round(p9_t3.pontos, 5)}\\n\")\n",
    "plotar_transformacao_composta(\"Exercício 9: Composição de Transformações\", [p9, p9_t1, p9_t2, p9_t3])\n"
   ],
   "id": "c3ef0b9abe0d652c"
  },
  {
   "metadata": {},
   "cell_type": "code",
   "outputs": [],
   "execution_count": null,
   "source": [
    "# --- Exercício 10: Combinação de Transformações ---\n",
    "ret10 = FormaGeometrica(np.array([[1, 1], [5, 1], [5, 3], [1, 3]]), \"Retângulo\")\n",
    "matriz_final = matriz_reflexao('y') @ matriz_escala([1.5, 0.5]) @ matriz_translacao([-2, 3])\n",
    "ret10_final = ret10.aplicar_matriz(matriz_final, \"Final\")\n",
    "print(f\"--- Exercício 10 ---\\nOriginal: \\n{ret10.pontos}\\nFinal: \\n{np.round(ret10_final.pontos, 5)}\\n\")\n",
    "\n",
    "# Para visualização dos passos intermediários:\n",
    "ret10_t1 = ret10.transladar([-2, 3])\n",
    "ret10_t2 = ret10_t1.escalar([1.5, 0.5])\n",
    "ret10_t3 = ret10_t2.refletir(eixo='y')\n",
    "plotar_transformacao_composta(\"Exercício 10: Combinação de Transformações\", [ret10, ret10_t1, ret10_t2, ret10_t3])\n"
   ],
   "id": "ecd97b3f1afdfaa"
  }
 ],
 "metadata": {
  "kernelspec": {
   "display_name": "Python 3 (ipykernel)",
   "language": "python",
   "name": "python3"
  },
  "language_info": {
   "codemirror_mode": {
    "name": "ipython",
    "version": 2
   },
   "file_extension": ".py",
   "mimetype": "text/x-python",
   "name": "python",
   "nbconvert_exporter": "python",
   "pygments_lexer": "ipython2",
   "version": "2.7.6"
  }
 },
 "nbformat": 4,
 "nbformat_minor": 5
}
